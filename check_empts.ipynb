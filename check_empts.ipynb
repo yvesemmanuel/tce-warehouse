{
 "cells": [
  {
   "cell_type": "code",
   "execution_count": 1,
   "metadata": {},
   "outputs": [],
   "source": [
    "import pandas as pd"
   ]
  },
  {
   "cell_type": "code",
   "execution_count": 2,
   "metadata": {},
   "outputs": [],
   "source": [
    "years = [2019, 2020]\n",
    "df_cities = pd.read_csv('./data/cities_PE.csv')"
   ]
  },
  {
   "cell_type": "code",
   "execution_count": 3,
   "metadata": {},
   "outputs": [],
   "source": [
    "healths = []\n",
    "\n",
    "for year in years:\n",
    "    for city_id in df_cities.ID:\n",
    "        df = pd.read_csv('./data/secretaries/{}/health/{}.csv'.format(year, city_id))\n",
    "\n",
    "        if df.shape[0] == 0:\n",
    "            healths.append((year, city_id))"
   ]
  },
  {
   "cell_type": "code",
   "execution_count": 4,
   "metadata": {},
   "outputs": [],
   "source": [
    "infrastructure = []\n",
    "\n",
    "for year in years:\n",
    "    for city_id in df_cities.ID:\n",
    "        df = pd.read_csv('./data/secretaries/{}/infrastructure/{}.csv'.format(year, city_id))\n",
    "\n",
    "        if df.shape[0] == 0:\n",
    "            infrastructure.append((year, city_id))"
   ]
  },
  {
   "cell_type": "code",
   "execution_count": 5,
   "metadata": {},
   "outputs": [],
   "source": [
    "education = []\n",
    "\n",
    "for year in years:\n",
    "    for city_id in df_cities.ID:\n",
    "        df = pd.read_csv('./data/secretaries/{}/education/{}.csv'.format(year, city_id))\n",
    "\n",
    "        if df.shape[0] == 0:\n",
    "            education.append((year, city_id))"
   ]
  }
 ],
 "metadata": {
  "kernelspec": {
   "display_name": "base",
   "language": "python",
   "name": "python3"
  },
  "language_info": {
   "codemirror_mode": {
    "name": "ipython",
    "version": 3
   },
   "file_extension": ".py",
   "mimetype": "text/x-python",
   "name": "python",
   "nbconvert_exporter": "python",
   "pygments_lexer": "ipython3",
   "version": "3.8.15"
  },
  "orig_nbformat": 4,
  "vscode": {
   "interpreter": {
    "hash": "d3c200d6a13644ebf9c9d65b10e2813a095c194238b43ad2d4b47adc181ee041"
   }
  }
 },
 "nbformat": 4,
 "nbformat_minor": 2
}
