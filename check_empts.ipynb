{
 "cells": [
  {
   "cell_type": "code",
   "execution_count": 17,
   "metadata": {},
   "outputs": [],
   "source": [
    "import pandas as pd"
   ]
  },
  {
   "cell_type": "code",
   "execution_count": 18,
   "metadata": {},
   "outputs": [],
   "source": [
    "years = [2019, 2020]\n",
    "df_cities = pd.read_csv('./data/cities_PE.csv')"
   ]
  },
  {
   "cell_type": "code",
   "execution_count": 19,
   "metadata": {},
   "outputs": [
    {
     "name": "stdout",
     "output_type": "stream",
     "text": [
      "2019 5331\n",
      "2019 5415\n",
      "2019 5425\n",
      "2019 5507\n",
      "2020 5415\n",
      "2020 5507\n"
     ]
    }
   ],
   "source": [
    "for year in years:\n",
    "    for city_id in df_cities.ID:\n",
    "        try:\n",
    "            df = pd.read_csv('./data/secretaries/{}/health/{}.csv'.format(year, city_id))\n",
    "\n",
    "            if df.shape[0] == 0:\n",
    "                print(year, city_id)\n",
    "        except:\n",
    "            pass"
   ]
  },
  {
   "cell_type": "code",
   "execution_count": 20,
   "metadata": {},
   "outputs": [
    {
     "name": "stdout",
     "output_type": "stream",
     "text": [
      "2019 5301\n",
      "2019 5305\n",
      "2019 5314\n",
      "2019 5315\n",
      "2019 5316\n",
      "2019 5336\n",
      "2019 5338\n",
      "2019 5354\n",
      "2019 5356\n",
      "2019 5358\n",
      "2019 5364\n",
      "2019 5365\n",
      "2019 5367\n",
      "2019 5374\n",
      "2019 5375\n",
      "2019 5382\n",
      "2019 5389\n",
      "2019 5392\n",
      "2019 5394\n",
      "2019 5400\n",
      "2019 5403\n",
      "2019 5404\n",
      "2019 5405\n",
      "2019 5409\n",
      "2019 5413\n",
      "2019 5415\n",
      "2019 5418\n",
      "2019 5419\n",
      "2019 5424\n",
      "2019 5425\n",
      "2019 5427\n",
      "2019 5436\n",
      "2019 5447\n",
      "2019 5450\n",
      "2019 5453\n",
      "2019 5464\n",
      "2019 5469\n",
      "2019 5474\n",
      "2019 5476\n",
      "2019 5507\n",
      "2020 5301\n",
      "2020 5305\n",
      "2020 5314\n",
      "2020 5346\n",
      "2020 5354\n",
      "2020 5356\n",
      "2020 5358\n",
      "2020 5364\n",
      "2020 5365\n",
      "2020 5367\n",
      "2020 5374\n",
      "2020 5375\n",
      "2020 5382\n",
      "2020 5389\n",
      "2020 5392\n",
      "2020 5394\n",
      "2020 5400\n",
      "2020 5403\n",
      "2020 5409\n",
      "2020 5413\n",
      "2020 5415\n",
      "2020 5419\n",
      "2020 5425\n",
      "2020 5427\n",
      "2020 5436\n",
      "2020 5447\n",
      "2020 5450\n",
      "2020 5453\n",
      "2020 5464\n",
      "2020 5469\n",
      "2020 5474\n",
      "2020 5476\n",
      "2020 5507\n"
     ]
    }
   ],
   "source": [
    "for year in years:\n",
    "    for city_id in df_cities.ID:\n",
    "        try:\n",
    "            df = pd.read_csv('./data/secretaries/{}/infrastructure/{}.csv'.format(year, city_id))\n",
    "\n",
    "            if df.shape[0] == 0:\n",
    "                print(year, city_id)\n",
    "        except:\n",
    "            pass"
   ]
  },
  {
   "cell_type": "code",
   "execution_count": 21,
   "metadata": {},
   "outputs": [
    {
     "name": "stdout",
     "output_type": "stream",
     "text": [
      "2019 5401\n",
      "2019 5412\n",
      "2019 5415\n",
      "2019 5507\n",
      "2020 5415\n",
      "2020 5431\n",
      "2020 5456\n",
      "2020 5507\n"
     ]
    }
   ],
   "source": [
    "for year in years:\n",
    "    for city_id in df_cities.ID:\n",
    "        try:\n",
    "            df = pd.read_csv('./data/secretaries/{}/education/{}.csv'.format(year, city_id))\n",
    "\n",
    "            if df.shape[0] == 0:\n",
    "                print(year, city_id)\n",
    "        except:\n",
    "            pass"
   ]
  }
 ],
 "metadata": {
  "kernelspec": {
   "display_name": "base",
   "language": "python",
   "name": "python3"
  },
  "language_info": {
   "codemirror_mode": {
    "name": "ipython",
    "version": 3
   },
   "file_extension": ".py",
   "mimetype": "text/x-python",
   "name": "python",
   "nbconvert_exporter": "python",
   "pygments_lexer": "ipython3",
   "version": "3.8.16"
  },
  "orig_nbformat": 4,
  "vscode": {
   "interpreter": {
    "hash": "d3c200d6a13644ebf9c9d65b10e2813a095c194238b43ad2d4b47adc181ee041"
   }
  }
 },
 "nbformat": 4,
 "nbformat_minor": 2
}
