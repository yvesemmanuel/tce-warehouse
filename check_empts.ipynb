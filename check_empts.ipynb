{
 "cells": [
  {
   "cell_type": "code",
   "execution_count": 11,
   "metadata": {},
   "outputs": [],
   "source": [
    "import pandas as pd"
   ]
  },
  {
   "cell_type": "code",
   "execution_count": 12,
   "metadata": {},
   "outputs": [],
   "source": [
    "years = [2019, 2020]\n",
    "df_cities = pd.read_csv('./data/cities_PE.csv')"
   ]
  },
  {
   "cell_type": "code",
   "execution_count": 13,
   "metadata": {},
   "outputs": [
    {
     "name": "stdout",
     "output_type": "stream",
     "text": [
      "2019 5415\n",
      "2019 5507\n",
      "2020 5415\n",
      "2020 5507\n"
     ]
    }
   ],
   "source": [
    "for year in years:\n",
    "    for city_id in df_cities.ID:\n",
    "        try:\n",
    "            df = pd.read_csv('./data/secretaries/{}/health/{}.csv'.format(year, city_id))\n",
    "\n",
    "            if df.shape[0] == 0:\n",
    "                print(year, city_id)\n",
    "        except:\n",
    "            pass"
   ]
  },
  {
   "cell_type": "code",
   "execution_count": 14,
   "metadata": {},
   "outputs": [
    {
     "name": "stdout",
     "output_type": "stream",
     "text": [
      "2019 5415\n",
      "2019 5507\n",
      "2020 5415\n",
      "2020 5507\n"
     ]
    }
   ],
   "source": [
    "for year in years:\n",
    "    for city_id in df_cities.ID:\n",
    "        try:\n",
    "            df = pd.read_csv('./data/secretaries/{}/infrastructure/{}.csv'.format(year, city_id))\n",
    "\n",
    "            if df.shape[0] == 0:\n",
    "                print(year, city_id)\n",
    "        except:\n",
    "            pass"
   ]
  },
  {
   "cell_type": "code",
   "execution_count": 15,
   "metadata": {},
   "outputs": [
    {
     "name": "stdout",
     "output_type": "stream",
     "text": [
      "2019 5415\n",
      "2019 5507\n",
      "2020 5415\n",
      "2020 5431\n",
      "2020 5456\n",
      "2020 5507\n"
     ]
    }
   ],
   "source": [
    "for year in years:\n",
    "    for city_id in df_cities.ID:\n",
    "        try:\n",
    "            df = pd.read_csv('./data/secretaries/{}/education/{}.csv'.format(year, city_id))\n",
    "\n",
    "            if df.shape[0] == 0:\n",
    "                print(year, city_id)\n",
    "        except:\n",
    "            pass"
   ]
  }
 ],
 "metadata": {
  "kernelspec": {
   "display_name": "base",
   "language": "python",
   "name": "python3"
  },
  "language_info": {
   "codemirror_mode": {
    "name": "ipython",
    "version": 3
   },
   "file_extension": ".py",
   "mimetype": "text/x-python",
   "name": "python",
   "nbconvert_exporter": "python",
   "pygments_lexer": "ipython3",
   "version": "3.8.16"
  },
  "orig_nbformat": 4,
  "vscode": {
   "interpreter": {
    "hash": "d3c200d6a13644ebf9c9d65b10e2813a095c194238b43ad2d4b47adc181ee041"
   }
  }
 },
 "nbformat": 4,
 "nbformat_minor": 2
}
